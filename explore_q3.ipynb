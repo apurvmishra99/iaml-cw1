{
 "metadata": {
  "language_info": {
   "codemirror_mode": {
    "name": "ipython",
    "version": 3
   },
   "file_extension": ".py",
   "mimetype": "text/x-python",
   "name": "python",
   "nbconvert_exporter": "python",
   "pygments_lexer": "ipython3",
   "version": "3.7.7-final"
  },
  "orig_nbformat": 2,
  "kernelspec": {
   "name": "Python 3.7.7 64-bit ('py3iaml': conda)",
   "display_name": "Python 3.7.7 64-bit ('py3iaml': conda)",
   "metadata": {
    "interpreter": {
     "hash": "56f51b1924865d83c0045278c2a54d2048f078d81d1e3fe18655020f0f522d3d"
    }
   }
  }
 },
 "nbformat": 4,
 "nbformat_minor": 2,
 "cells": [
  {
   "cell_type": "code",
   "execution_count": 1,
   "metadata": {},
   "outputs": [],
   "source": [
    "import os\n",
    "import numpy as np \n",
    "import pandas as pd\n",
    "import matplotlib.pyplot as plt\n",
    "import seaborn as sns\n",
    "import graphviz\n",
    "from sklearn.model_selection import train_test_split\n",
    "from sklearn.tree import DecisionTreeClassifier, export_graphviz\n",
    "from sklearn.ensemble import RandomForestClassifier\n",
    "from sklearn.metrics import accuracy_score, confusion_matrix, r2_score\n",
    "%matplotlib inline"
   ]
  },
  {
   "source": [
    "## Question 3 - Decision Trees"
   ],
   "cell_type": "markdown",
   "metadata": {}
  },
  {
   "cell_type": "code",
   "execution_count": 2,
   "metadata": {},
   "outputs": [],
   "source": [
    "df_train = pd.read_csv(\"data/faces_train_data.csv\")\n",
    "df_test = pd.read_csv(\"data/faces_test_data.csv\")"
   ]
  },
  {
   "cell_type": "code",
   "execution_count": 6,
   "metadata": {},
   "outputs": [
    {
     "output_type": "stream",
     "name": "stdout",
     "text": [
      "      x0     y0     x1     y1     x2     y2     x3     y3     x4     y4  ...  \\\n",
      "0 -1.861  1.350 -1.835  0.892 -1.756  0.458 -1.704 -0.000 -1.625 -0.458  ...   \n",
      "1 -1.920  1.523 -1.920  1.066 -1.833  0.571 -1.746  0.076 -1.571 -0.343  ...   \n",
      "2 -1.247  1.177 -1.256  0.806 -1.183  0.403 -0.983  0.008 -0.746 -0.371  ...   \n",
      "3 -1.660  1.812 -1.701  1.324 -1.660  0.801 -1.620  0.314 -1.498 -0.139  ...   \n",
      "4 -1.776  1.551 -1.693  1.140 -1.549  0.729 -1.363  0.318 -1.115 -0.075  ...   \n",
      "\n",
      "     y63    x64    y64    x65    y65    x66    y66    x67    y67  smiling  \n",
      "0 -0.160  0.498 -0.343  0.183 -0.389 -0.026 -0.389 -0.210 -0.389        0  \n",
      "1 -0.076  0.742 -0.076  0.262 -0.267  0.000 -0.305 -0.262 -0.267        1  \n",
      "2 -0.055  1.247  0.016  0.464 -0.506  0.173 -0.553 -0.082 -0.537        1  \n",
      "3 -0.070  0.891 -0.035  0.283 -0.279  0.000 -0.279 -0.283 -0.244        0  \n",
      "4 -0.093  0.764  0.056  0.227 -0.112  0.041 -0.150 -0.145 -0.131        0  \n",
      "\n",
      "[5 rows x 137 columns]\n",
      "                x0           y0           x1           y1           x2  \\\n",
      "count  4800.000000  4800.000000  4800.000000  4800.000000  4800.000000   \n",
      "mean     -1.931962     1.455752    -1.920338     1.004314    -1.858298   \n",
      "std       0.590181     0.402155     0.552056     0.380052     0.532371   \n",
      "min      -3.979000    -2.111000    -3.872000    -2.054000    -3.737000   \n",
      "25%      -2.241000     1.247750    -2.204000     0.812750    -2.142250   \n",
      "50%      -1.952000     1.456000    -1.931000     1.011000    -1.854000   \n",
      "75%      -1.628750     1.676000    -1.626000     1.212250    -1.557750   \n",
      "max       1.984000     3.461000     1.617000     3.132000     1.213000   \n",
      "\n",
      "                y2           x3           y3           x4           y4  ...  \\\n",
      "count  4800.000000  4800.000000  4800.000000  4800.000000  4800.000000  ...   \n",
      "mean      0.545549    -1.744761     0.089065    -1.550913    -0.333587  ...   \n",
      "std       0.361070     0.523245     0.343751     0.491355     0.321495  ...   \n",
      "min      -1.940000    -3.468000    -2.180000    -3.071000    -2.345000  ...   \n",
      "25%       0.361750    -2.039250    -0.086000    -1.839000    -0.505000  ...   \n",
      "50%       0.561000    -1.751000     0.104000    -1.576500    -0.319000  ...   \n",
      "75%       0.750000    -1.451000     0.285250    -1.276000    -0.141000  ...   \n",
      "max       2.747000     0.808000     2.473000     0.655000     2.296000  ...   \n",
      "\n",
      "               y63          x64          y64          x65          y65  \\\n",
      "count  4800.000000  4800.000000  4800.000000  4800.000000  4800.000000   \n",
      "mean     -0.111277     0.687324    -0.106768     0.223960    -0.263222   \n",
      "std       0.050815     0.209837     0.148709     0.086788     0.148332   \n",
      "min      -0.319000    -0.441000    -0.897000    -0.448000    -1.142000   \n",
      "25%      -0.142000     0.582000    -0.191000     0.188000    -0.356000   \n",
      "50%      -0.110000     0.701000    -0.102000     0.224000    -0.242000   \n",
      "75%      -0.078000     0.823250    -0.018000     0.266000    -0.147000   \n",
      "max       0.288000     1.387000     0.725000     0.725000     0.336000   \n",
      "\n",
      "               x66          y66          x67          y67      smiling  \n",
      "count  4800.000000  4800.000000  4800.000000  4800.000000  4800.000000  \n",
      "mean      0.005834    -0.288294    -0.211278    -0.269045     0.486458  \n",
      "std       0.073380     0.147636     0.083300     0.148305     0.499869  \n",
      "min      -0.597000    -1.162000    -0.746000    -1.154000     0.000000  \n",
      "25%      -0.024000    -0.383000    -0.252000    -0.361000     0.000000  \n",
      "50%       0.000000    -0.266000    -0.213000    -0.247000     0.000000  \n",
      "75%       0.035250    -0.169000    -0.175000    -0.152000     1.000000  \n",
      "max       0.544000     0.144000     0.369000     0.318000     1.000000  \n",
      "\n",
      "[8 rows x 137 columns]\n"
     ]
    }
   ],
   "source": [
    "print(df_train.head())\n",
    "print(df_train.describe())"
   ]
  },
  {
   "cell_type": "code",
   "execution_count": 7,
   "metadata": {},
   "outputs": [
    {
     "output_type": "stream",
     "name": "stdout",
     "text": [
      "      x0     y0     x1     y1     x2     y2     x3     y3     x4     y4  ...  \\\n",
      "0 -3.109  1.440 -3.067  0.847 -2.982  0.212 -2.811 -0.381 -2.385 -0.847  ...   \n",
      "1 -2.747  1.159 -2.693  0.669 -2.585  0.223 -2.424 -0.268 -2.208 -0.669  ...   \n",
      "2 -2.370  1.604 -2.326  1.130 -2.238  0.656 -2.107  0.182 -1.843 -0.255  ...   \n",
      "3 -2.696  2.059 -2.684  1.503 -2.620  0.935 -2.505  0.378 -2.262 -0.116  ...   \n",
      "4 -2.072  2.017 -1.950  1.504 -1.788  1.027 -1.625  0.550 -1.381  0.110  ...   \n",
      "\n",
      "     y63    x64    y64    x65    y65    x66    y66    x67    y67  smiling  \n",
      "0 -0.085  0.383 -0.000  0.170 -0.127  0.000 -0.212 -0.213 -0.212        1  \n",
      "1 -0.089  0.485 -0.134  0.269 -0.357  0.054 -0.446 -0.215 -0.446        0  \n",
      "2 -0.109  0.571 -0.146  0.176 -0.146  0.000 -0.146 -0.219 -0.146        0  \n",
      "3 -0.053  0.422 -0.042  0.153 -0.137 -0.038 -0.179 -0.256 -0.168        0  \n",
      "4 -0.037  0.731  0.073  0.244 -0.037  0.000 -0.073 -0.203 -0.073        0  \n",
      "\n",
      "[5 rows x 137 columns]\n",
      "                x0           y0           x1           y1           x2  \\\n",
      "count  1200.000000  1200.000000  1200.000000  1200.000000  1200.000000   \n",
      "mean     -1.924105     1.466505    -1.913906     1.015347    -1.854442   \n",
      "std       0.586384     0.412054     0.548511     0.389851     0.529543   \n",
      "min      -3.846000    -2.116000    -3.673000    -2.341000    -3.487000   \n",
      "25%      -2.250000     1.243000    -2.220250     0.816000    -2.150000   \n",
      "50%      -1.949000     1.465000    -1.921000     1.016000    -1.860500   \n",
      "75%      -1.626250     1.686500    -1.627750     1.221500    -1.562750   \n",
      "max       1.613000     3.641000     1.067000     3.205000     0.522000   \n",
      "\n",
      "                y2           x3           y3           x4           y4  ...  \\\n",
      "count  1200.000000  1200.000000  1200.000000  1200.000000  1200.000000  ...   \n",
      "mean      0.556578    -1.742358     0.100410    -1.549113    -0.322024  ...   \n",
      "std       0.368793     0.524712     0.348176     0.498277     0.322613  ...   \n",
      "min      -2.539000    -3.287000    -2.624000    -3.005000    -2.511000  ...   \n",
      "25%       0.364000    -2.049000    -0.092250    -1.843000    -0.502250  ...   \n",
      "50%       0.562500    -1.758500     0.105500    -1.582500    -0.316500  ...   \n",
      "75%       0.753500    -1.448500     0.302000    -1.282000    -0.128500  ...   \n",
      "max       2.718000     0.000000     2.510000     0.309000     2.213000  ...   \n",
      "\n",
      "               y63          x64          y64          x65          y65  \\\n",
      "count  1200.000000  1200.000000  1200.000000  1200.000000  1200.000000   \n",
      "mean     -0.109595     0.686934    -0.101417     0.221621    -0.256826   \n",
      "std       0.049170     0.202535     0.147125     0.082986     0.141866   \n",
      "min      -0.280000    -0.133000    -0.672000    -0.282000    -1.087000   \n",
      "25%      -0.138000     0.580000    -0.180000     0.185750    -0.347000   \n",
      "50%      -0.108000     0.704000    -0.097500     0.225000    -0.240000   \n",
      "75%      -0.078000     0.816000    -0.000000     0.264000    -0.142000   \n",
      "max       0.248000     1.269000     0.702000     0.603000     0.248000   \n",
      "\n",
      "               x66          y66          x67          y67      smiling  \n",
      "count  1200.000000  1200.000000  1200.000000  1200.000000  1200.000000  \n",
      "mean      0.004443    -0.281469    -0.211166    -0.262411     0.493333  \n",
      "std       0.073667     0.139187     0.087036     0.137586     0.500164  \n",
      "min      -0.507000    -1.109000    -0.732000    -1.087000     0.000000  \n",
      "25%      -0.027000    -0.374000    -0.254000    -0.353000     0.000000  \n",
      "50%       0.000000    -0.263000    -0.213000    -0.244000     0.000000  \n",
      "75%       0.036000    -0.166000    -0.175000    -0.155000     1.000000  \n",
      "max       0.411000     0.041000     0.259000     0.168000     1.000000  \n",
      "\n",
      "[8 rows x 137 columns]\n"
     ]
    }
   ],
   "source": [
    "print(df_test.head())\n",
    "print(df_test.describe())"
   ]
  },
  {
   "source": [
    "The train dataset has 4800 observations, and the test dataset has 1200 observations. This a traditional 75%-25% split of the whole datset to train the model. Each observation is composed of 68 (x, y) pairs of points."
   ],
   "cell_type": "markdown",
   "metadata": {}
  },
  {
   "cell_type": "code",
   "execution_count": 22,
   "metadata": {},
   "outputs": [],
   "source": [
    "smiling_mean_points = df_train[df_train[\"smiling\"] == 1].drop(labels=[\"smiling\"], axis=1).mean(axis=0).values\n",
    "smiling_mean_points_x = smiling_mean_points[0::2]\n",
    "smiling_mean_points_y = smiling_mean_points[1::2]"
   ]
  },
  {
   "cell_type": "code",
   "execution_count": 27,
   "metadata": {},
   "outputs": [],
   "source": [
    "non_smiling_mean_points = df_train[df_train[\"smiling\"] == 0].drop(labels=[\"smiling\"], axis=1).mean(axis=0).values\n",
    "non_smiling_mean_points_x = non_smiling_mean_points[0::2]\n",
    "non_smiling_mean_points_y = non_smiling_mean_points[1::2]"
   ]
  },
  {
   "cell_type": "code",
   "execution_count": 34,
   "metadata": {},
   "outputs": [
    {
     "output_type": "execute_result",
     "data": {
      "text/plain": [
       "<matplotlib.collections.PathCollection at 0x7febcd3d6850>"
      ]
     },
     "metadata": {},
     "execution_count": 34
    },
    {
     "output_type": "display_data",
     "data": {
      "text/plain": "<Figure size 432x288 with 1 Axes>",
      "image/svg+xml": "<?xml version=\"1.0\" encoding=\"utf-8\" standalone=\"no\"?>\n<!DOCTYPE svg PUBLIC \"-//W3C//DTD SVG 1.1//EN\"\n  \"http://www.w3.org/Graphics/SVG/1.1/DTD/svg11.dtd\">\n<!-- Created with matplotlib (https://matplotlib.org/) -->\n<svg height=\"252.018125pt\" version=\"1.1\" viewBox=\"0 0 383.982812 252.018125\" width=\"383.982812pt\" xmlns=\"http://www.w3.org/2000/svg\" xmlns:xlink=\"http://www.w3.org/1999/xlink\">\n <defs>\n  <style type=\"text/css\">\n*{stroke-linecap:butt;stroke-linejoin:round;}\n  </style>\n </defs>\n <g id=\"figure_1\">\n  <g id=\"patch_1\">\n   <path d=\"M -0 252.018125 \nL 383.982812 252.018125 \nL 383.982812 0 \nL -0 0 \nz\n\" style=\"fill:none;\"/>\n  </g>\n  <g id=\"axes_1\">\n   <g id=\"patch_2\">\n    <path d=\"M 38.482813 228.14 \nL 373.282813 228.14 \nL 373.282813 10.7 \nL 38.482813 10.7 \nz\n\" style=\"fill:#ffffff;\"/>\n   </g>\n   <g id=\"PathCollection_1\">\n    <defs>\n     <path d=\"M 0 3 \nC 0.795609 3 1.55874 2.683901 2.12132 2.12132 \nC 2.683901 1.55874 3 0.795609 3 0 \nC 3 -0.795609 2.683901 -1.55874 2.12132 -2.12132 \nC 1.55874 -2.683901 0.795609 -3 0 -3 \nC -0.795609 -3 -1.55874 -2.683901 -2.12132 -2.12132 \nC -2.683901 -1.55874 -3 -0.795609 -3 0 \nC -3 0.795609 -2.683901 1.55874 -2.12132 2.12132 \nC -1.55874 2.683901 -0.795609 3 0 3 \nz\n\" id=\"mbd96010b0d\" style=\"stroke:#1f77b4;\"/>\n    </defs>\n    <g clip-path=\"url(#pe7f12b5584)\">\n     <use style=\"fill:#1f77b4;stroke:#1f77b4;\" x=\"54.404827\" xlink:href=\"#mbd96010b0d\" y=\"55.568085\"/>\n     <use style=\"fill:#1f77b4;stroke:#1f77b4;\" x=\"55.27161\" xlink:href=\"#mbd96010b0d\" y=\"81.452859\"/>\n     <use style=\"fill:#1f77b4;stroke:#1f77b4;\" x=\"59.776447\" xlink:href=\"#mbd96010b0d\" y=\"107.746585\"/>\n     <use style=\"fill:#1f77b4;stroke:#1f77b4;\" x=\"68.339728\" xlink:href=\"#mbd96010b0d\" y=\"134.081743\"/>\n     <use style=\"fill:#1f77b4;stroke:#1f77b4;\" x=\"83.761619\" xlink:href=\"#mbd96010b0d\" y=\"158.439918\"/>\n     <use style=\"fill:#1f77b4;stroke:#1f77b4;\" x=\"107.787528\" xlink:href=\"#mbd96010b0d\" y=\"179.572148\"/>\n     <use style=\"fill:#1f77b4;stroke:#1f77b4;\" x=\"137.121951\" xlink:href=\"#mbd96010b0d\" y=\"197.938082\"/>\n     <use style=\"fill:#1f77b4;stroke:#1f77b4;\" x=\"170.529988\" xlink:href=\"#mbd96010b0d\" y=\"212.737877\"/>\n     <use style=\"fill:#1f77b4;stroke:#1f77b4;\" x=\"209.337667\" xlink:href=\"#mbd96010b0d\" y=\"217.473084\"/>\n     <use style=\"fill:#1f77b4;stroke:#1f77b4;\" x=\"248.261199\" xlink:href=\"#mbd96010b0d\" y=\"211.98124\"/>\n     <use style=\"fill:#1f77b4;stroke:#1f77b4;\" x=\"281.23973\" xlink:href=\"#mbd96010b0d\" y=\"196.544601\"/>\n     <use style=\"fill:#1f77b4;stroke:#1f77b4;\" x=\"310.181885\" xlink:href=\"#mbd96010b0d\" y=\"177.66446\"/>\n     <use style=\"fill:#1f77b4;stroke:#1f77b4;\" x=\"333.479807\" xlink:href=\"#mbd96010b0d\" y=\"155.9586\"/>\n     <use style=\"fill:#1f77b4;stroke:#1f77b4;\" x=\"347.640158\" xlink:href=\"#mbd96010b0d\" y=\"131.06487\"/>\n     <use style=\"fill:#1f77b4;stroke:#1f77b4;\" x=\"354.685332\" xlink:href=\"#mbd96010b0d\" y=\"104.373496\"/>\n     <use style=\"fill:#1f77b4;stroke:#1f77b4;\" x=\"357.360798\" xlink:href=\"#mbd96010b0d\" y=\"77.645772\"/>\n     <use style=\"fill:#1f77b4;stroke:#1f77b4;\" x=\"356.599777\" xlink:href=\"#mbd96010b0d\" y=\"51.551489\"/>\n     <use style=\"fill:#1f77b4;stroke:#1f77b4;\" x=\"81.564874\" xlink:href=\"#mbd96010b0d\" y=\"34.863481\"/>\n     <use style=\"fill:#1f77b4;stroke:#1f77b4;\" x=\"99.871602\" xlink:href=\"#mbd96010b0d\" y=\"26.122182\"/>\n     <use style=\"fill:#1f77b4;stroke:#1f77b4;\" x=\"123.941511\" xlink:href=\"#mbd96010b0d\" y=\"23.815046\"/>\n     <use style=\"fill:#1f77b4;stroke:#1f77b4;\" x=\"148.76013\" xlink:href=\"#mbd96010b0d\" y=\"26.204629\"/>\n     <use style=\"fill:#1f77b4;stroke:#1f77b4;\" x=\"171.88269\" xlink:href=\"#mbd96010b0d\" y=\"31.829273\"/>\n     <use style=\"fill:#1f77b4;stroke:#1f77b4;\" x=\"234.390381\" xlink:href=\"#mbd96010b0d\" y=\"30.843043\"/>\n     <use style=\"fill:#1f77b4;stroke:#1f77b4;\" x=\"257.412865\" xlink:href=\"#mbd96010b0d\" y=\"24.444061\"/>\n     <use style=\"fill:#1f77b4;stroke:#1f77b4;\" x=\"282.265459\" xlink:href=\"#mbd96010b0d\" y=\"21.366916\"/>\n     <use style=\"fill:#1f77b4;stroke:#1f77b4;\" x=\"306.848368\" xlink:href=\"#mbd96010b0d\" y=\"23.058968\"/>\n     <use style=\"fill:#1f77b4;stroke:#1f77b4;\" x=\"325.879484\" xlink:href=\"#mbd96010b0d\" y=\"31.423845\"/>\n     <use style=\"fill:#1f77b4;stroke:#1f77b4;\" x=\"203.993194\" xlink:href=\"#mbd96010b0d\" y=\"52.155656\"/>\n     <use style=\"fill:#1f77b4;stroke:#1f77b4;\" x=\"204.47881\" xlink:href=\"#mbd96010b0d\" y=\"69.886983\"/>\n     <use style=\"fill:#1f77b4;stroke:#1f77b4;\" x=\"204.862298\" xlink:href=\"#mbd96010b0d\" y=\"86.879056\"/>\n     <use style=\"fill:#1f77b4;stroke:#1f77b4;\" x=\"205.397633\" xlink:href=\"#mbd96010b0d\" y=\"104.052849\"/>\n     <use style=\"fill:#1f77b4;stroke:#1f77b4;\" x=\"172.363597\" xlink:href=\"#mbd96010b0d\" y=\"115.124819\"/>\n     <use style=\"fill:#1f77b4;stroke:#1f77b4;\" x=\"188.11623\" xlink:href=\"#mbd96010b0d\" y=\"119.413289\"/>\n     <use style=\"fill:#1f77b4;stroke:#1f77b4;\" x=\"206.049226\" xlink:href=\"#mbd96010b0d\" y=\"122.339861\"/>\n     <use style=\"fill:#1f77b4;stroke:#1f77b4;\" x=\"223.994938\" xlink:href=\"#mbd96010b0d\" y=\"118.983232\"/>\n     <use style=\"fill:#1f77b4;stroke:#1f77b4;\" x=\"239.570426\" xlink:href=\"#mbd96010b0d\" y=\"114.409418\"/>\n     <use style=\"fill:#1f77b4;stroke:#1f77b4;\" x=\"110.168617\" xlink:href=\"#mbd96010b0d\" y=\"55.09757\"/>\n     <use style=\"fill:#1f77b4;stroke:#1f77b4;\" x=\"127.580204\" xlink:href=\"#mbd96010b0d\" y=\"48.738073\"/>\n     <use style=\"fill:#1f77b4;stroke:#1f77b4;\" x=\"147.109653\" xlink:href=\"#mbd96010b0d\" y=\"48.911963\"/>\n     <use style=\"fill:#1f77b4;stroke:#1f77b4;\" x=\"164.317352\" xlink:href=\"#mbd96010b0d\" y=\"57.102172\"/>\n     <use style=\"fill:#1f77b4;stroke:#1f77b4;\" x=\"146.264735\" xlink:href=\"#mbd96010b0d\" y=\"59.504982\"/>\n     <use style=\"fill:#1f77b4;stroke:#1f77b4;\" x=\"126.982905\" xlink:href=\"#mbd96010b0d\" y=\"59.338944\"/>\n     <use style=\"fill:#1f77b4;stroke:#1f77b4;\" x=\"244.490708\" xlink:href=\"#mbd96010b0d\" y=\"56.030042\"/>\n     <use style=\"fill:#1f77b4;stroke:#1f77b4;\" x=\"261.49896\" xlink:href=\"#mbd96010b0d\" y=\"47.316825\"/>\n     <use style=\"fill:#1f77b4;stroke:#1f77b4;\" x=\"281.040855\" xlink:href=\"#mbd96010b0d\" y=\"46.736145\"/>\n     <use style=\"fill:#1f77b4;stroke:#1f77b4;\" x=\"298.889921\" xlink:href=\"#mbd96010b0d\" y=\"52.770205\"/>\n     <use style=\"fill:#1f77b4;stroke:#1f77b4;\" x=\"282.167367\" xlink:href=\"#mbd96010b0d\" y=\"57.293252\"/>\n     <use style=\"fill:#1f77b4;stroke:#1f77b4;\" x=\"262.93899\" xlink:href=\"#mbd96010b0d\" y=\"57.948405\"/>\n     <use style=\"fill:#1f77b4;stroke:#1f77b4;\" x=\"139.761288\" xlink:href=\"#mbd96010b0d\" y=\"140.968089\"/>\n     <use style=\"fill:#1f77b4;stroke:#1f77b4;\" x=\"163.946446\" xlink:href=\"#mbd96010b0d\" y=\"136.818328\"/>\n     <use style=\"fill:#1f77b4;stroke:#1f77b4;\" x=\"189.478755\" xlink:href=\"#mbd96010b0d\" y=\"135.015723\"/>\n     <use style=\"fill:#1f77b4;stroke:#1f77b4;\" x=\"206.838773\" xlink:href=\"#mbd96010b0d\" y=\"137.271873\"/>\n     <use style=\"fill:#1f77b4;stroke:#1f77b4;\" x=\"224.155565\" xlink:href=\"#mbd96010b0d\" y=\"134.551796\"/>\n     <use style=\"fill:#1f77b4;stroke:#1f77b4;\" x=\"250.226271\" xlink:href=\"#mbd96010b0d\" y=\"135.79964\"/>\n     <use style=\"fill:#1f77b4;stroke:#1f77b4;\" x=\"274.88803\" xlink:href=\"#mbd96010b0d\" y=\"139.089115\"/>\n     <use style=\"fill:#1f77b4;stroke:#1f77b4;\" x=\"253.448476\" xlink:href=\"#mbd96010b0d\" y=\"157.637449\"/>\n     <use style=\"fill:#1f77b4;stroke:#1f77b4;\" x=\"228.256462\" xlink:href=\"#mbd96010b0d\" y=\"167.851882\"/>\n     <use style=\"fill:#1f77b4;stroke:#1f77b4;\" x=\"207.715076\" xlink:href=\"#mbd96010b0d\" y=\"169.825241\"/>\n     <use style=\"fill:#1f77b4;stroke:#1f77b4;\" x=\"187.31057\" xlink:href=\"#mbd96010b0d\" y=\"168.357798\"/>\n     <use style=\"fill:#1f77b4;stroke:#1f77b4;\" x=\"161.943799\" xlink:href=\"#mbd96010b0d\" y=\"158.743958\"/>\n     <use style=\"fill:#1f77b4;stroke:#1f77b4;\" x=\"147.355051\" xlink:href=\"#mbd96010b0d\" y=\"142.425662\"/>\n     <use style=\"fill:#1f77b4;stroke:#1f77b4;\" x=\"189.001952\" xlink:href=\"#mbd96010b0d\" y=\"143.249842\"/>\n     <use style=\"fill:#1f77b4;stroke:#1f77b4;\" x=\"207.001049\" xlink:href=\"#mbd96010b0d\" y=\"144.452535\"/>\n     <use style=\"fill:#1f77b4;stroke:#1f77b4;\" x=\"225.056189\" xlink:href=\"#mbd96010b0d\" y=\"142.782341\"/>\n     <use style=\"fill:#1f77b4;stroke:#1f77b4;\" x=\"267.313408\" xlink:href=\"#mbd96010b0d\" y=\"140.784887\"/>\n     <use style=\"fill:#1f77b4;stroke:#1f77b4;\" x=\"226.479299\" xlink:href=\"#mbd96010b0d\" y=\"155.231747\"/>\n     <use style=\"fill:#1f77b4;stroke:#1f77b4;\" x=\"207.416528\" xlink:href=\"#mbd96010b0d\" y=\"156.954871\"/>\n     <use style=\"fill:#1f77b4;stroke:#1f77b4;\" x=\"188.333035\" xlink:href=\"#mbd96010b0d\" y=\"155.648699\"/>\n    </g>\n   </g>\n   <g id=\"matplotlib.axis_1\">\n    <g id=\"xtick_1\">\n     <g id=\"line2d_1\">\n      <defs>\n       <path d=\"M 0 0 \nL 0 3.5 \n\" id=\"meced477889\" style=\"stroke:#000000;stroke-width:0.8;\"/>\n      </defs>\n      <g>\n       <use style=\"stroke:#000000;stroke-width:0.8;\" x=\"49.743365\" xlink:href=\"#meced477889\" y=\"228.14\"/>\n      </g>\n     </g>\n     <g id=\"text_1\">\n      <!-- −2.0 -->\n      <defs>\n       <path d=\"M 10.59375 35.5 \nL 73.1875 35.5 \nL 73.1875 27.203125 \nL 10.59375 27.203125 \nz\n\" id=\"DejaVuSans-8722\"/>\n       <path d=\"M 19.1875 8.296875 \nL 53.609375 8.296875 \nL 53.609375 0 \nL 7.328125 0 \nL 7.328125 8.296875 \nQ 12.9375 14.109375 22.625 23.890625 \nQ 32.328125 33.6875 34.8125 36.53125 \nQ 39.546875 41.84375 41.421875 45.53125 \nQ 43.3125 49.21875 43.3125 52.78125 \nQ 43.3125 58.59375 39.234375 62.25 \nQ 35.15625 65.921875 28.609375 65.921875 \nQ 23.96875 65.921875 18.8125 64.3125 \nQ 13.671875 62.703125 7.8125 59.421875 \nL 7.8125 69.390625 \nQ 13.765625 71.78125 18.9375 73 \nQ 24.125 74.21875 28.421875 74.21875 \nQ 39.75 74.21875 46.484375 68.546875 \nQ 53.21875 62.890625 53.21875 53.421875 \nQ 53.21875 48.921875 51.53125 44.890625 \nQ 49.859375 40.875 45.40625 35.40625 \nQ 44.1875 33.984375 37.640625 27.21875 \nQ 31.109375 20.453125 19.1875 8.296875 \nz\n\" id=\"DejaVuSans-50\"/>\n       <path d=\"M 10.6875 12.40625 \nL 21 12.40625 \nL 21 0 \nL 10.6875 0 \nz\n\" id=\"DejaVuSans-46\"/>\n       <path d=\"M 31.78125 66.40625 \nQ 24.171875 66.40625 20.328125 58.90625 \nQ 16.5 51.421875 16.5 36.375 \nQ 16.5 21.390625 20.328125 13.890625 \nQ 24.171875 6.390625 31.78125 6.390625 \nQ 39.453125 6.390625 43.28125 13.890625 \nQ 47.125 21.390625 47.125 36.375 \nQ 47.125 51.421875 43.28125 58.90625 \nQ 39.453125 66.40625 31.78125 66.40625 \nz\nM 31.78125 74.21875 \nQ 44.046875 74.21875 50.515625 64.515625 \nQ 56.984375 54.828125 56.984375 36.375 \nQ 56.984375 17.96875 50.515625 8.265625 \nQ 44.046875 -1.421875 31.78125 -1.421875 \nQ 19.53125 -1.421875 13.0625 8.265625 \nQ 6.59375 17.96875 6.59375 36.375 \nQ 6.59375 54.828125 13.0625 64.515625 \nQ 19.53125 74.21875 31.78125 74.21875 \nz\n\" id=\"DejaVuSans-48\"/>\n      </defs>\n      <g transform=\"translate(37.601959 242.738437)scale(0.1 -0.1)\">\n       <use xlink:href=\"#DejaVuSans-8722\"/>\n       <use x=\"83.789062\" xlink:href=\"#DejaVuSans-50\"/>\n       <use x=\"147.412109\" xlink:href=\"#DejaVuSans-46\"/>\n       <use x=\"179.199219\" xlink:href=\"#DejaVuSans-48\"/>\n      </g>\n     </g>\n    </g>\n    <g id=\"xtick_2\">\n     <g id=\"line2d_2\">\n      <g>\n       <use style=\"stroke:#000000;stroke-width:0.8;\" x=\"89.017217\" xlink:href=\"#meced477889\" y=\"228.14\"/>\n      </g>\n     </g>\n     <g id=\"text_2\">\n      <!-- −1.5 -->\n      <defs>\n       <path d=\"M 12.40625 8.296875 \nL 28.515625 8.296875 \nL 28.515625 63.921875 \nL 10.984375 60.40625 \nL 10.984375 69.390625 \nL 28.421875 72.90625 \nL 38.28125 72.90625 \nL 38.28125 8.296875 \nL 54.390625 8.296875 \nL 54.390625 0 \nL 12.40625 0 \nz\n\" id=\"DejaVuSans-49\"/>\n       <path d=\"M 10.796875 72.90625 \nL 49.515625 72.90625 \nL 49.515625 64.59375 \nL 19.828125 64.59375 \nL 19.828125 46.734375 \nQ 21.96875 47.46875 24.109375 47.828125 \nQ 26.265625 48.1875 28.421875 48.1875 \nQ 40.625 48.1875 47.75 41.5 \nQ 54.890625 34.8125 54.890625 23.390625 \nQ 54.890625 11.625 47.5625 5.09375 \nQ 40.234375 -1.421875 26.90625 -1.421875 \nQ 22.3125 -1.421875 17.546875 -0.640625 \nQ 12.796875 0.140625 7.71875 1.703125 \nL 7.71875 11.625 \nQ 12.109375 9.234375 16.796875 8.0625 \nQ 21.484375 6.890625 26.703125 6.890625 \nQ 35.15625 6.890625 40.078125 11.328125 \nQ 45.015625 15.765625 45.015625 23.390625 \nQ 45.015625 31 40.078125 35.4375 \nQ 35.15625 39.890625 26.703125 39.890625 \nQ 22.75 39.890625 18.8125 39.015625 \nQ 14.890625 38.140625 10.796875 36.28125 \nz\n\" id=\"DejaVuSans-53\"/>\n      </defs>\n      <g transform=\"translate(76.875811 242.738437)scale(0.1 -0.1)\">\n       <use xlink:href=\"#DejaVuSans-8722\"/>\n       <use x=\"83.789062\" xlink:href=\"#DejaVuSans-49\"/>\n       <use x=\"147.412109\" xlink:href=\"#DejaVuSans-46\"/>\n       <use x=\"179.199219\" xlink:href=\"#DejaVuSans-53\"/>\n      </g>\n     </g>\n    </g>\n    <g id=\"xtick_3\">\n     <g id=\"line2d_3\">\n      <g>\n       <use style=\"stroke:#000000;stroke-width:0.8;\" x=\"128.291069\" xlink:href=\"#meced477889\" y=\"228.14\"/>\n      </g>\n     </g>\n     <g id=\"text_3\">\n      <!-- −1.0 -->\n      <g transform=\"translate(116.149663 242.738437)scale(0.1 -0.1)\">\n       <use xlink:href=\"#DejaVuSans-8722\"/>\n       <use x=\"83.789062\" xlink:href=\"#DejaVuSans-49\"/>\n       <use x=\"147.412109\" xlink:href=\"#DejaVuSans-46\"/>\n       <use x=\"179.199219\" xlink:href=\"#DejaVuSans-48\"/>\n      </g>\n     </g>\n    </g>\n    <g id=\"xtick_4\">\n     <g id=\"line2d_4\">\n      <g>\n       <use style=\"stroke:#000000;stroke-width:0.8;\" x=\"167.564921\" xlink:href=\"#meced477889\" y=\"228.14\"/>\n      </g>\n     </g>\n     <g id=\"text_4\">\n      <!-- −0.5 -->\n      <g transform=\"translate(155.423515 242.738437)scale(0.1 -0.1)\">\n       <use xlink:href=\"#DejaVuSans-8722\"/>\n       <use x=\"83.789062\" xlink:href=\"#DejaVuSans-48\"/>\n       <use x=\"147.412109\" xlink:href=\"#DejaVuSans-46\"/>\n       <use x=\"179.199219\" xlink:href=\"#DejaVuSans-53\"/>\n      </g>\n     </g>\n    </g>\n    <g id=\"xtick_5\">\n     <g id=\"line2d_5\">\n      <g>\n       <use style=\"stroke:#000000;stroke-width:0.8;\" x=\"206.838773\" xlink:href=\"#meced477889\" y=\"228.14\"/>\n      </g>\n     </g>\n     <g id=\"text_5\">\n      <!-- 0.0 -->\n      <g transform=\"translate(198.887211 242.738437)scale(0.1 -0.1)\">\n       <use xlink:href=\"#DejaVuSans-48\"/>\n       <use x=\"63.623047\" xlink:href=\"#DejaVuSans-46\"/>\n       <use x=\"95.410156\" xlink:href=\"#DejaVuSans-48\"/>\n      </g>\n     </g>\n    </g>\n    <g id=\"xtick_6\">\n     <g id=\"line2d_6\">\n      <g>\n       <use style=\"stroke:#000000;stroke-width:0.8;\" x=\"246.112625\" xlink:href=\"#meced477889\" y=\"228.14\"/>\n      </g>\n     </g>\n     <g id=\"text_6\">\n      <!-- 0.5 -->\n      <g transform=\"translate(238.161063 242.738437)scale(0.1 -0.1)\">\n       <use xlink:href=\"#DejaVuSans-48\"/>\n       <use x=\"63.623047\" xlink:href=\"#DejaVuSans-46\"/>\n       <use x=\"95.410156\" xlink:href=\"#DejaVuSans-53\"/>\n      </g>\n     </g>\n    </g>\n    <g id=\"xtick_7\">\n     <g id=\"line2d_7\">\n      <g>\n       <use style=\"stroke:#000000;stroke-width:0.8;\" x=\"285.386477\" xlink:href=\"#meced477889\" y=\"228.14\"/>\n      </g>\n     </g>\n     <g id=\"text_7\">\n      <!-- 1.0 -->\n      <g transform=\"translate(277.434915 242.738437)scale(0.1 -0.1)\">\n       <use xlink:href=\"#DejaVuSans-49\"/>\n       <use x=\"63.623047\" xlink:href=\"#DejaVuSans-46\"/>\n       <use x=\"95.410156\" xlink:href=\"#DejaVuSans-48\"/>\n      </g>\n     </g>\n    </g>\n    <g id=\"xtick_8\">\n     <g id=\"line2d_8\">\n      <g>\n       <use style=\"stroke:#000000;stroke-width:0.8;\" x=\"324.660329\" xlink:href=\"#meced477889\" y=\"228.14\"/>\n      </g>\n     </g>\n     <g id=\"text_8\">\n      <!-- 1.5 -->\n      <g transform=\"translate(316.708767 242.738437)scale(0.1 -0.1)\">\n       <use xlink:href=\"#DejaVuSans-49\"/>\n       <use x=\"63.623047\" xlink:href=\"#DejaVuSans-46\"/>\n       <use x=\"95.410156\" xlink:href=\"#DejaVuSans-53\"/>\n      </g>\n     </g>\n    </g>\n    <g id=\"xtick_9\">\n     <g id=\"line2d_9\">\n      <g>\n       <use style=\"stroke:#000000;stroke-width:0.8;\" x=\"363.934181\" xlink:href=\"#meced477889\" y=\"228.14\"/>\n      </g>\n     </g>\n     <g id=\"text_9\">\n      <!-- 2.0 -->\n      <g transform=\"translate(355.982619 242.738437)scale(0.1 -0.1)\">\n       <use xlink:href=\"#DejaVuSans-50\"/>\n       <use x=\"63.623047\" xlink:href=\"#DejaVuSans-46\"/>\n       <use x=\"95.410156\" xlink:href=\"#DejaVuSans-48\"/>\n      </g>\n     </g>\n    </g>\n   </g>\n   <g id=\"matplotlib.axis_2\">\n    <g id=\"ytick_1\">\n     <g id=\"line2d_10\">\n      <defs>\n       <path d=\"M 0 0 \nL -3.5 0 \n\" id=\"m0ad2018e51\" style=\"stroke:#000000;stroke-width:0.8;\"/>\n      </defs>\n      <g>\n       <use style=\"stroke:#000000;stroke-width:0.8;\" x=\"38.482813\" xlink:href=\"#m0ad2018e51\" y=\"222.43003\"/>\n      </g>\n     </g>\n     <g id=\"text_10\">\n      <!-- −1.5 -->\n      <g transform=\"translate(7.2 226.229249)scale(0.1 -0.1)\">\n       <use xlink:href=\"#DejaVuSans-8722\"/>\n       <use x=\"83.789062\" xlink:href=\"#DejaVuSans-49\"/>\n       <use x=\"147.412109\" xlink:href=\"#DejaVuSans-46\"/>\n       <use x=\"179.199219\" xlink:href=\"#DejaVuSans-53\"/>\n      </g>\n     </g>\n    </g>\n    <g id=\"ytick_2\">\n     <g id=\"line2d_11\">\n      <g>\n       <use style=\"stroke:#000000;stroke-width:0.8;\" x=\"38.482813\" xlink:href=\"#m0ad2018e51\" y=\"194.043978\"/>\n      </g>\n     </g>\n     <g id=\"text_11\">\n      <!-- −1.0 -->\n      <g transform=\"translate(7.2 197.843197)scale(0.1 -0.1)\">\n       <use xlink:href=\"#DejaVuSans-8722\"/>\n       <use x=\"83.789062\" xlink:href=\"#DejaVuSans-49\"/>\n       <use x=\"147.412109\" xlink:href=\"#DejaVuSans-46\"/>\n       <use x=\"179.199219\" xlink:href=\"#DejaVuSans-48\"/>\n      </g>\n     </g>\n    </g>\n    <g id=\"ytick_3\">\n     <g id=\"line2d_12\">\n      <g>\n       <use style=\"stroke:#000000;stroke-width:0.8;\" x=\"38.482813\" xlink:href=\"#m0ad2018e51\" y=\"165.657925\"/>\n      </g>\n     </g>\n     <g id=\"text_12\">\n      <!-- −0.5 -->\n      <g transform=\"translate(7.2 169.457144)scale(0.1 -0.1)\">\n       <use xlink:href=\"#DejaVuSans-8722\"/>\n       <use x=\"83.789062\" xlink:href=\"#DejaVuSans-48\"/>\n       <use x=\"147.412109\" xlink:href=\"#DejaVuSans-46\"/>\n       <use x=\"179.199219\" xlink:href=\"#DejaVuSans-53\"/>\n      </g>\n     </g>\n    </g>\n    <g id=\"ytick_4\">\n     <g id=\"line2d_13\">\n      <g>\n       <use style=\"stroke:#000000;stroke-width:0.8;\" x=\"38.482813\" xlink:href=\"#m0ad2018e51\" y=\"137.271873\"/>\n      </g>\n     </g>\n     <g id=\"text_13\">\n      <!-- 0.0 -->\n      <g transform=\"translate(15.579688 141.071092)scale(0.1 -0.1)\">\n       <use xlink:href=\"#DejaVuSans-48\"/>\n       <use x=\"63.623047\" xlink:href=\"#DejaVuSans-46\"/>\n       <use x=\"95.410156\" xlink:href=\"#DejaVuSans-48\"/>\n      </g>\n     </g>\n    </g>\n    <g id=\"ytick_5\">\n     <g id=\"line2d_14\">\n      <g>\n       <use style=\"stroke:#000000;stroke-width:0.8;\" x=\"38.482813\" xlink:href=\"#m0ad2018e51\" y=\"108.88582\"/>\n      </g>\n     </g>\n     <g id=\"text_14\">\n      <!-- 0.5 -->\n      <g transform=\"translate(15.579688 112.685039)scale(0.1 -0.1)\">\n       <use xlink:href=\"#DejaVuSans-48\"/>\n       <use x=\"63.623047\" xlink:href=\"#DejaVuSans-46\"/>\n       <use x=\"95.410156\" xlink:href=\"#DejaVuSans-53\"/>\n      </g>\n     </g>\n    </g>\n    <g id=\"ytick_6\">\n     <g id=\"line2d_15\">\n      <g>\n       <use style=\"stroke:#000000;stroke-width:0.8;\" x=\"38.482813\" xlink:href=\"#m0ad2018e51\" y=\"80.499768\"/>\n      </g>\n     </g>\n     <g id=\"text_15\">\n      <!-- 1.0 -->\n      <g transform=\"translate(15.579688 84.298987)scale(0.1 -0.1)\">\n       <use xlink:href=\"#DejaVuSans-49\"/>\n       <use x=\"63.623047\" xlink:href=\"#DejaVuSans-46\"/>\n       <use x=\"95.410156\" xlink:href=\"#DejaVuSans-48\"/>\n      </g>\n     </g>\n    </g>\n    <g id=\"ytick_7\">\n     <g id=\"line2d_16\">\n      <g>\n       <use style=\"stroke:#000000;stroke-width:0.8;\" x=\"38.482813\" xlink:href=\"#m0ad2018e51\" y=\"52.113715\"/>\n      </g>\n     </g>\n     <g id=\"text_16\">\n      <!-- 1.5 -->\n      <g transform=\"translate(15.579688 55.912934)scale(0.1 -0.1)\">\n       <use xlink:href=\"#DejaVuSans-49\"/>\n       <use x=\"63.623047\" xlink:href=\"#DejaVuSans-46\"/>\n       <use x=\"95.410156\" xlink:href=\"#DejaVuSans-53\"/>\n      </g>\n     </g>\n    </g>\n    <g id=\"ytick_8\">\n     <g id=\"line2d_17\">\n      <g>\n       <use style=\"stroke:#000000;stroke-width:0.8;\" x=\"38.482813\" xlink:href=\"#m0ad2018e51\" y=\"23.727663\"/>\n      </g>\n     </g>\n     <g id=\"text_17\">\n      <!-- 2.0 -->\n      <g transform=\"translate(15.579688 27.526882)scale(0.1 -0.1)\">\n       <use xlink:href=\"#DejaVuSans-50\"/>\n       <use x=\"63.623047\" xlink:href=\"#DejaVuSans-46\"/>\n       <use x=\"95.410156\" xlink:href=\"#DejaVuSans-48\"/>\n      </g>\n     </g>\n    </g>\n   </g>\n   <g id=\"patch_3\">\n    <path d=\"M 38.482813 228.14 \nL 38.482813 10.7 \n\" style=\"fill:none;stroke:#000000;stroke-linecap:square;stroke-linejoin:miter;stroke-width:0.8;\"/>\n   </g>\n   <g id=\"patch_4\">\n    <path d=\"M 373.282813 228.14 \nL 373.282813 10.7 \n\" style=\"fill:none;stroke:#000000;stroke-linecap:square;stroke-linejoin:miter;stroke-width:0.8;\"/>\n   </g>\n   <g id=\"patch_5\">\n    <path d=\"M 38.482812 228.14 \nL 373.282813 228.14 \n\" style=\"fill:none;stroke:#000000;stroke-linecap:square;stroke-linejoin:miter;stroke-width:0.8;\"/>\n   </g>\n   <g id=\"patch_6\">\n    <path d=\"M 38.482812 10.7 \nL 373.282813 10.7 \n\" style=\"fill:none;stroke:#000000;stroke-linecap:square;stroke-linejoin:miter;stroke-width:0.8;\"/>\n   </g>\n  </g>\n </g>\n <defs>\n  <clipPath id=\"pe7f12b5584\">\n   <rect height=\"217.44\" width=\"334.8\" x=\"38.482813\" y=\"10.7\"/>\n  </clipPath>\n </defs>\n</svg>\n",
      "image/png": "[encoded data removed]"
     },
     "metadata": {
      "needs_background": "light"
     }
    }
   ],
   "source": [
    "plt.scatter(smiling_mean_points_x, smiling_mean_points_y)\n",
    "#plt.scatter(non_smiling_mean_points_x, non_smiling_mean_points_y)"
   ]
  },
  {
   "source": [
    "The major difference in the scatter plot is that for the smilling scatter plot we see that the face formed has its mouth open and lips raised. This alsp leads its chin to be slighly lower and eyes a bit more inclined compared to the not smiling plot."
   ],
   "cell_type": "markdown",
   "metadata": {}
  },
  {
   "cell_type": "code",
   "execution_count": 50,
   "metadata": {},
   "outputs": [],
   "source": [
    "tree = DecisionTreeClassifier(max_depth=20, random_state=2001)"
   ]
  },
  {
   "cell_type": "code",
   "execution_count": 51,
   "metadata": {},
   "outputs": [],
   "source": [
    "X = df_train.drop(labels=[\"smiling\"], axis=1)\n",
    "y = df_train[\"smiling\"]"
   ]
  },
  {
   "cell_type": "code",
   "execution_count": 61,
   "metadata": {},
   "outputs": [],
   "source": [
    "X_test = df_test.drop(labels=[\"smiling\"], axis=1)\n",
    "y_test = df_test[\"smiling\"]"
   ]
  },
  {
   "source": [
    "We use `Gini Index` as default measure of purity in sklearn's `DecisionTreeClassifier`. Compared to entropy using `Gini` is computationally less expensive and is easier to calculate."
   ],
   "cell_type": "markdown",
   "metadata": {}
  },
  {
   "source": [
    "The `max_depth` parameter sets how deep the tree can grow and hence how complicated our model will be. Increasing the value of `max_depth` means we have a higher training accuracy, however we have to be careful not to overfit on the training data. If the `max_depth` is really high we observe our testing accuracy goes down. We need to find a sweet spot in between to have the best possible model. For small values we may not have enough distinguishing features to make an accurate model. For large values, the model becomes complicated and we will overfit on training data."
   ],
   "cell_type": "markdown",
   "metadata": {}
  },
  {
   "cell_type": "code",
   "execution_count": 62,
   "metadata": {},
   "outputs": [],
   "source": [
    "results = []\n",
    "for depth in [2, 8, 20]:\n",
    "    tree = DecisionTreeClassifier(max_depth=depth, random_state=2001)\n",
    "    tree.fit(X, y)\n",
    "    train_acc = tree.score(X, y)\n",
    "    test_acc = tree.score(X_test, y_test)\n",
    "    results.append([depth, train_acc, test_acc])"
   ]
  },
  {
   "cell_type": "code",
   "execution_count": 63,
   "metadata": {},
   "outputs": [
    {
     "output_type": "execute_result",
     "data": {
      "text/plain": [
       "[[2, 0.7947916666666667, 0.7816666666666666],\n",
       " [8, 0.9335416666666667, 0.8408333333333333],\n",
       " [20, 1.0, 0.815]]"
      ]
     },
     "metadata": {},
     "execution_count": 63
    }
   ],
   "source": [
    "results"
   ]
  },
  {
   "cell_type": "code",
   "execution_count": 65,
   "metadata": {},
   "outputs": [],
   "source": [
    "export_graphviz(\n",
    "            tree,\n",
    "            out_file =  \"d8_smile.dot\",\n",
    "            feature_names = list(X.columns),\n",
    "            class_names = [\"smiling\", \"not smiling\"],\n",
    "            filled = True,\n",
    "            rounded = True)"
   ]
  },
  {
   "source": [
    "The model with `max_depth=8` is the best out of the three. We have the highest test accuracy, and much lower complexity than the model with 20 layers."
   ],
   "cell_type": "markdown",
   "metadata": {}
  },
  {
   "cell_type": "code",
   "execution_count": 64,
   "metadata": {},
   "outputs": [
    {
     "output_type": "execute_result",
     "data": {
      "text/plain": [
       "DecisionTreeClassifier(class_weight=None, criterion='gini', max_depth=8,\n",
       "            max_features=None, max_leaf_nodes=None,\n",
       "            min_impurity_decrease=0.0, min_impurity_split=None,\n",
       "            min_samples_leaf=1, min_samples_split=2,\n",
       "            min_weight_fraction_leaf=0.0, presort=False, random_state=2001,\n",
       "            splitter='best')"
      ]
     },
     "metadata": {},
     "execution_count": 64
    }
   ],
   "source": [
    "tree = DecisionTreeClassifier(max_depth=8, random_state=2001)\n",
    "tree.fit(X, y)"
   ]
  },
  {
   "cell_type": "code",
   "execution_count": 67,
   "metadata": {},
   "outputs": [],
   "source": [
    "importances = pd.DataFrame({'feature':X.columns,'importance':np.round(tree.feature_importances_,3)})\n",
    "importances = importances.sort_values('importance',ascending=False)"
   ]
  },
  {
   "cell_type": "code",
   "execution_count": 69,
   "metadata": {},
   "outputs": [
    {
     "output_type": "execute_result",
     "data": {
      "text/plain": [
       "    feature  importance\n",
       "100     x50       0.330\n",
       "97      y48       0.090\n",
       "59      y29       0.088\n",
       "106     x53       0.087\n",
       "98      x49       0.042"
      ],
      "text/html": "<div>\n<style scoped>\n    .dataframe tbody tr th:only-of-type {\n        vertical-align: middle;\n    }\n\n    .dataframe tbody tr th {\n        vertical-align: top;\n    }\n\n    .dataframe thead th {\n        text-align: right;\n    }\n</style>\n<table border=\"1\" class=\"dataframe\">\n  <thead>\n    <tr style=\"text-align: right;\">\n      <th></th>\n      <th>feature</th>\n      <th>importance</th>\n    </tr>\n  </thead>\n  <tbody>\n    <tr>\n      <th>100</th>\n      <td>x50</td>\n      <td>0.330</td>\n    </tr>\n    <tr>\n      <th>97</th>\n      <td>y48</td>\n      <td>0.090</td>\n    </tr>\n    <tr>\n      <th>59</th>\n      <td>y29</td>\n      <td>0.088</td>\n    </tr>\n    <tr>\n      <th>106</th>\n      <td>x53</td>\n      <td>0.087</td>\n    </tr>\n    <tr>\n      <th>98</th>\n      <td>x49</td>\n      <td>0.042</td>\n    </tr>\n  </tbody>\n</table>\n</div>"
     },
     "metadata": {},
     "execution_count": 69
    }
   ],
   "source": [
    "importances.head()"
   ]
  },
  {
   "source": [
    "The three most important features are `x50, y48 and y29`. "
   ],
   "cell_type": "markdown",
   "metadata": {}
  },
  {
   "cell_type": "code",
   "execution_count": 85,
   "metadata": {},
   "outputs": [
    {
     "output_type": "execute_result",
     "data": {
      "text/plain": [
       "-0.228    37\n",
       "-0.238    37\n",
       "-0.217    35\n",
       "-0.208    33\n",
       "-0.220    32\n",
       "-0.227    32\n",
       "-0.224    32\n",
       "-0.218    31\n",
       "-0.219    31\n",
       "-0.231    31\n",
       "-0.225    30\n",
       "-0.213    30\n",
       "-0.233    30\n",
       "-0.241    30\n",
       "-0.232    30\n",
       "-0.230    30\n",
       "-0.212    30\n",
       "-0.216    29\n",
       "-0.214    29\n",
       "-0.240    29\n",
       "-0.205    29\n",
       "-0.236    29\n",
       "-0.210    29\n",
       "-0.243    28\n",
       "-0.197    28\n",
       "-0.223    27\n",
       "-0.229    27\n",
       "-0.239    27\n",
       "-0.215    27\n",
       "-0.222    27\n",
       "          ..\n",
       "-0.289     2\n",
       "-0.118     1\n",
       "-0.283     1\n",
       "-0.144     1\n",
       "-0.120     1\n",
       "-0.132     1\n",
       "-0.324     1\n",
       "-0.304     1\n",
       "-0.147     1\n",
       "-0.089     1\n",
       "-0.155     1\n",
       "-0.143     1\n",
       "-0.303     1\n",
       "-0.302     1\n",
       "-0.290     1\n",
       "-0.145     1\n",
       "-0.315     1\n",
       "-0.332     1\n",
       "-0.107     1\n",
       "-0.124     1\n",
       "-0.319     1\n",
       "-0.141     1\n",
       "-0.301     1\n",
       "-0.299     1\n",
       "-0.108     1\n",
       "-0.131     1\n",
       "-0.115     1\n",
       "-0.140     1\n",
       "-0.300     1\n",
       "-0.294     1\n",
       "Name: x50, Length: 181, dtype: int64"
      ]
     },
     "metadata": {},
     "execution_count": 85
    }
   ],
   "source": [
    "df_train.where(df_train[\"smiling\"] == 1)[\"x50\"].value_counts()"
   ]
  },
  {
   "source": [
    "input (2d points) limitations?"
   ],
   "cell_type": "markdown",
   "metadata": {}
  },
  {
   "cell_type": "code",
   "execution_count": null,
   "metadata": {},
   "outputs": [],
   "source": []
  }
 ]
}